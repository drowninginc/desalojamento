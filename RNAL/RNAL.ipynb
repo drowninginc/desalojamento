{
 "cells": [
  {
   "cell_type": "code",
   "execution_count": 3,
   "id": "66d3a3a6-ab9d-4021-b49c-406614eb53bf",
   "metadata": {},
   "outputs": [],
   "source": [
    "import pandas as pd\n",
    "import numpy as np\n",
    "\n",
    "pd.set_option('display.max_columns', 500)\n",
    "pd.set_option('display.max_rows', 500)"
   ]
  },
  {
   "cell_type": "code",
   "execution_count": 2,
   "id": "c9ca39f1-d84d-4e5b-aa6f-75046a1ea826",
   "metadata": {},
   "outputs": [],
   "source": [
    "RNAL = pd.read_csv(\"../python/final/porto.csv\")\n",
    "RNAL[\"NrRNAL\"] = RNAL[\"NrRNAL\"].astype(str)"
   ]
  },
  {
   "cell_type": "code",
   "execution_count": 5,
   "id": "6431d294-6227-4565-9582-714a62cc6b7c",
   "metadata": {},
   "outputs": [
    {
     "data": {
      "text/plain": [
       "Modalidade\n",
       "Apartamento                        9150\n",
       "Moradia                             613\n",
       "EstabelecimentoHospedagem           562\n",
       "EstabelecimentoHospedagemHostel      78\n",
       "Quartos                              60\n",
       "Name: count, dtype: int64"
      ]
     },
     "execution_count": 5,
     "metadata": {},
     "output_type": "execute_result"
    }
   ],
   "source": [
    "RNAL[\"Modalidade\"].value_counts()\n"
   ]
  },
  {
   "cell_type": "code",
   "execution_count": 9,
   "id": "80f081a3-d015-436f-af64-2047f89a015a",
   "metadata": {},
   "outputs": [
    {
     "data": {
      "text/plain": [
       "Index(['Unnamed: 0', 'X', 'Y', 'OBJECTID', 'NrRNAL', 'Denominacao',\n",
       "       'DataRegisto', 'DataAberturaPublico', 'Modalidade', 'NrUtentes',\n",
       "       'Email', 'Endereco', 'CodigoPostal', 'Freguesia', 'Concelho',\n",
       "       'Distrito'],\n",
       "      dtype='object')"
      ]
     },
     "execution_count": 9,
     "metadata": {},
     "output_type": "execute_result"
    }
   ],
   "source": [
    "RNAL.columns"
   ]
  },
  {
   "cell_type": "code",
   "execution_count": null,
   "id": "cc2f56ff-a436-4072-8abe-accfe04e3246",
   "metadata": {},
   "outputs": [],
   "source": []
  }
 ],
 "metadata": {
  "kernelspec": {
   "display_name": "Python 3 (ipykernel)",
   "language": "python",
   "name": "python3"
  },
  "language_info": {
   "codemirror_mode": {
    "name": "ipython",
    "version": 3
   },
   "file_extension": ".py",
   "mimetype": "text/x-python",
   "name": "python",
   "nbconvert_exporter": "python",
   "pygments_lexer": "ipython3",
   "version": "3.11.5"
  }
 },
 "nbformat": 4,
 "nbformat_minor": 5
}
