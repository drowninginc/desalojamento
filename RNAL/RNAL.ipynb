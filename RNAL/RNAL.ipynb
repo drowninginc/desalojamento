{
 "cells": [
  {
   "cell_type": "code",
   "execution_count": 3,
   "id": "66d3a3a6-ab9d-4021-b49c-406614eb53bf",
   "metadata": {},
   "outputs": [],
   "source": [
    "import pandas as pd\n",
    "import numpy as np\n",
    "\n",
    "pd.set_option('display.max_columns', 500)\n",
    "pd.set_option('display.max_rows', 500)"
   ]
  },
  {
   "cell_type": "code",
   "execution_count": 2,
   "id": "c9ca39f1-d84d-4e5b-aa6f-75046a1ea826",
   "metadata": {},
   "outputs": [],
   "source": [
    "RNAL = pd.read_csv(\"../python/final/porto.csv\")\n",
    "RNAL[\"NrRNAL\"] = RNAL[\"NrRNAL\"].astype(str)"
   ]
  },
  {
   "cell_type": "code",
   "execution_count": 5,
   "id": "6431d294-6227-4565-9582-714a62cc6b7c",
   "metadata": {},
   "outputs": [
    {
     "data": {
      "text/plain": [
       "Modalidade\n",
       "Apartamento                        9150\n",
       "Moradia                             613\n",
       "EstabelecimentoHospedagem           562\n",
       "EstabelecimentoHospedagemHostel      78\n",
       "Quartos                              60\n",
       "Name: count, dtype: int64"
      ]
     },
     "execution_count": 5,
     "metadata": {},
     "output_type": "execute_result"
    }
   ],
   "source": [
    "RNAL[\"Modalidade\"].value_counts()\n"
   ]
  },
  {
   "cell_type": "code",
   "execution_count": 9,
   "id": "80f081a3-d015-436f-af64-2047f89a015a",
   "metadata": {},
   "outputs": [
    {
     "data": {
      "text/plain": [
       "Index(['Unnamed: 0', 'X', 'Y', 'OBJECTID', 'NrRNAL', 'Denominacao',\n",
       "       'DataRegisto', 'DataAberturaPublico', 'Modalidade', 'NrUtentes',\n",
       "       'Email', 'Endereco', 'CodigoPostal', 'Freguesia', 'Concelho',\n",
       "       'Distrito'],\n",
       "      dtype='object')"
      ]
     },
     "execution_count": 9,
     "metadata": {},
     "output_type": "execute_result"
    }
   ],
   "source": [
    "RNAL.columns"
   ]
  },
  {
   "cell_type": "code",
   "execution_count": 10,
   "id": "cc2f56ff-a436-4072-8abe-accfe04e3246",
   "metadata": {},
   "outputs": [
    {
     "data": {
      "text/plain": [
       "Endereco\n",
       "1ª Rua Rua de São Vitor 99                8\n",
       "Rua Rua Álvares Cabral 9 a 21             6\n",
       "Rua Rua Bonjardim 638                     6\n",
       "Rua Rua Formosa 444                       4\n",
       "Rua Rua Alferes Malheiro 157 a 161 1º     4\n",
       "                                         ..\n",
       "Rua Rua Brito Capelo 28 2º                1\n",
       "Rua Rua Visconde Setúbal 79/85            1\n",
       "Rua Rua Boavista 415 2º FRT               1\n",
       "Rua Rua Caldeireiros 15 2º Frente         1\n",
       "Praça Praça da Batalha 22 2º Esqº Frt.    1\n",
       "Name: count, Length: 10365, dtype: int64"
      ]
     },
     "execution_count": 10,
     "metadata": {},
     "output_type": "execute_result"
    }
   ],
   "source": [
    "RNAL[\"Endereco\"].value_counts()"
   ]
  },
  {
   "cell_type": "code",
   "execution_count": 11,
   "id": "18a281ff-13c7-4b64-bf99-b43270bbc99a",
   "metadata": {},
   "outputs": [
    {
     "data": {
      "text/plain": [
       "X\n",
       "-8.621315    70\n",
       "-8.608280    41\n",
       "-8.614578    36\n",
       "-8.608254    34\n",
       "-8.603624    33\n",
       "             ..\n",
       "-8.612054     1\n",
       "-8.626400     1\n",
       "-8.608841     1\n",
       "-8.618776     1\n",
       "-8.608875     1\n",
       "Name: count, Length: 4897, dtype: int64"
      ]
     },
     "execution_count": 11,
     "metadata": {},
     "output_type": "execute_result"
    }
   ],
   "source": [
    "RNAL[\"X\"].value_counts()"
   ]
  },
  {
   "cell_type": "code",
   "execution_count": 12,
   "id": "4da16e97-4570-4a2f-b40a-78e234e0b51b",
   "metadata": {},
   "outputs": [
    {
     "data": {
      "text/plain": [
       "Y\n",
       "41.153206    70\n",
       "41.152120    38\n",
       "41.142417    36\n",
       "41.155073    34\n",
       "41.159675    28\n",
       "             ..\n",
       "41.150164     1\n",
       "41.157852     1\n",
       "41.159329     1\n",
       "41.170407     1\n",
       "41.158063     1\n",
       "Name: count, Length: 4884, dtype: int64"
      ]
     },
     "execution_count": 12,
     "metadata": {},
     "output_type": "execute_result"
    }
   ],
   "source": [
    "RNAL[\"Y\"].value_counts()"
   ]
  },
  {
   "cell_type": "code",
   "execution_count": 15,
   "id": "400dd3da-b130-4f48-9550-1872ad0f30e8",
   "metadata": {},
   "outputs": [
    {
     "data": {
      "text/plain": [
       "Freguesia\n",
       "Bonfim                                                                                     1418\n",
       "Campanhã                                                                                    210\n",
       "Paranhos                                                                                    367\n",
       "Ramalde                                                                                     153\n",
       "União das freguesias de Aldoar, Foz do Douro e Nevogilde                                    246\n",
       "União das freguesias de Cedofeita, Santo Ildefonso, Sé, Miragaia, São Nicolau e Vitória    7542\n",
       "União das freguesias de Lordelo do Ouro e Massarelos                                        527\n",
       "dtype: int64"
      ]
     },
     "execution_count": 15,
     "metadata": {},
     "output_type": "execute_result"
    }
   ],
   "source": [
    "RNAL.groupby(\"Freguesia\").size()"
   ]
  },
  {
   "cell_type": "code",
   "execution_count": null,
   "id": "0a382ae4-9a87-4d52-baef-2cccda8ef202",
   "metadata": {},
   "outputs": [],
   "source": [
    "RNAL[\""
   ]
  }
 ],
 "metadata": {
  "kernelspec": {
   "display_name": "Python 3 (ipykernel)",
   "language": "python",
   "name": "python3"
  },
  "language_info": {
   "codemirror_mode": {
    "name": "ipython",
    "version": 3
   },
   "file_extension": ".py",
   "mimetype": "text/x-python",
   "name": "python",
   "nbconvert_exporter": "python",
   "pygments_lexer": "ipython3",
   "version": "3.11.5"
  }
 },
 "nbformat": 4,
 "nbformat_minor": 5
}
