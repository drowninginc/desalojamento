{
 "cells": [
  {
   "cell_type": "code",
   "execution_count": 16,
   "id": "c9db602d-f10c-4c32-bbef-f82ec938bad4",
   "metadata": {},
   "outputs": [],
   "source": [
    "import pandas as pd\n",
    "import re\n",
    "import numpy as np"
   ]
  },
  {
   "cell_type": "code",
   "execution_count": 17,
   "id": "a30b006d-19d8-483e-88d2-ab43ac429039",
   "metadata": {},
   "outputs": [],
   "source": [
    "airbnb = pd.read_csv(\"data/listings.csv\")\n",
    "airbnb = airbnb[airbnb[\"neighbourhood_group_cleansed\"] == \"PORTO\"]"
   ]
  },
  {
   "cell_type": "code",
   "execution_count": 18,
   "id": "de9d1f41-2169-4f1e-a51b-0a3caebe0ac8",
   "metadata": {},
   "outputs": [],
   "source": [
    "def extract_code(text):\n",
    "    # Use regular expression to find and extract all groups of consecutive numbers\n",
    "    numbers = re.findall(r'\\d+', text)\n",
    "    \n",
    "    # Find the largest group of consecutive numbers (if any)\n",
    "    if numbers:\n",
    "        largest_number = max(numbers, key=len)\n",
    "        return largest_number\n",
    "    return None\n",
    "airbnb[\"license\"] = airbnb[\"license\"].astype(str)\n",
    "airbnb['license_cleaned'] = airbnb['license'].apply(extract_code)\n",
    "airbnb[\"license_cleaned\"] = airbnb[\"license_cleaned\"].replace({\"6\":\"0\",\n",
    "\"Registo n.º: 237/2010 (4 de Maio) - Turismo Portugal\":\"237\",\n",
    "\"553/2016\":\"553\"})"
   ]
  },
  {
   "cell_type": "code",
   "execution_count": 20,
   "id": "782a9913-cad6-4f43-b367-a0763a467bc4",
   "metadata": {},
   "outputs": [
    {
     "data": {
      "text/plain": [
       "1333"
      ]
     },
     "execution_count": 20,
     "metadata": {},
     "output_type": "execute_result"
    }
   ],
   "source": [
    "RNAL = pd.read_csv"
   ]
  },
  {
   "cell_type": "code",
   "execution_count": null,
   "id": "d460536a-0705-4ed6-8b1d-0d188ae6b1f6",
   "metadata": {},
   "outputs": [],
   "source": []
  }
 ],
 "metadata": {
  "kernelspec": {
   "display_name": "Python 3 (ipykernel)",
   "language": "python",
   "name": "python3"
  },
  "language_info": {
   "codemirror_mode": {
    "name": "ipython",
    "version": 3
   },
   "file_extension": ".py",
   "mimetype": "text/x-python",
   "name": "python",
   "nbconvert_exporter": "python",
   "pygments_lexer": "ipython3",
   "version": "3.11.5"
  }
 },
 "nbformat": 4,
 "nbformat_minor": 5
}
