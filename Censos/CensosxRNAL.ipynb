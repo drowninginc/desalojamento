{
 "cells": [
  {
   "cell_type": "code",
   "execution_count": 3,
   "id": "abd06ab8-8e15-488d-8837-7b397af4b808",
   "metadata": {},
   "outputs": [
    {
     "data": {
      "text/html": [
       "<div>\n",
       "<style scoped>\n",
       "    .dataframe tbody tr th:only-of-type {\n",
       "        vertical-align: middle;\n",
       "    }\n",
       "\n",
       "    .dataframe tbody tr th {\n",
       "        vertical-align: top;\n",
       "    }\n",
       "\n",
       "    .dataframe thead th {\n",
       "        text-align: right;\n",
       "    }\n",
       "</style>\n",
       "<table border=\"1\" class=\"dataframe\">\n",
       "  <thead>\n",
       "    <tr style=\"text-align: right;\">\n",
       "      <th></th>\n",
       "      <th>Unnamed: 0</th>\n",
       "      <th>X</th>\n",
       "      <th>Y</th>\n",
       "      <th>OBJECTID</th>\n",
       "      <th>NrRNAL</th>\n",
       "      <th>Denominacao</th>\n",
       "      <th>DataRegisto</th>\n",
       "      <th>DataAberturaPublico</th>\n",
       "      <th>Modalidade</th>\n",
       "      <th>NrUtentes</th>\n",
       "      <th>Email</th>\n",
       "      <th>Endereco</th>\n",
       "      <th>CodigoPostal</th>\n",
       "      <th>Freguesia</th>\n",
       "      <th>Concelho</th>\n",
       "      <th>Distrito</th>\n",
       "    </tr>\n",
       "  </thead>\n",
       "  <tbody>\n",
       "    <tr>\n",
       "      <th>0</th>\n",
       "      <td>100</td>\n",
       "      <td>-8.630320</td>\n",
       "      <td>41.158010</td>\n",
       "      <td>185476533</td>\n",
       "      <td>519</td>\n",
       "      <td>Koolhouse Porto</td>\n",
       "      <td>2014/12/05 10:19:59+00</td>\n",
       "      <td>2014/12/05 00:00:00+00</td>\n",
       "      <td>EstabelecimentoHospedagem</td>\n",
       "      <td>23</td>\n",
       "      <td>kendall.faria@gmail.com</td>\n",
       "      <td>Avenida Avenida Boavista 911</td>\n",
       "      <td>4100-128</td>\n",
       "      <td>União das freguesias de Cedofeita, Santo Ildef...</td>\n",
       "      <td>Porto</td>\n",
       "      <td>Porto</td>\n",
       "    </tr>\n",
       "    <tr>\n",
       "      <th>1</th>\n",
       "      <td>293</td>\n",
       "      <td>-8.602860</td>\n",
       "      <td>41.144624</td>\n",
       "      <td>185476726</td>\n",
       "      <td>14</td>\n",
       "      <td>Centenry Fontaínhas Apartments 1</td>\n",
       "      <td>2014/12/01 09:40:52+00</td>\n",
       "      <td>2014/12/01 00:00:00+00</td>\n",
       "      <td>Apartamento</td>\n",
       "      <td>6</td>\n",
       "      <td>apcf.pc@gmail.com</td>\n",
       "      <td>Rua Fontaínhas 167 1.º</td>\n",
       "      <td>4000-240</td>\n",
       "      <td>União das freguesias de Cedofeita, Santo Ildef...</td>\n",
       "      <td>Porto</td>\n",
       "      <td>Porto</td>\n",
       "    </tr>\n",
       "    <tr>\n",
       "      <th>2</th>\n",
       "      <td>294</td>\n",
       "      <td>-8.602860</td>\n",
       "      <td>41.144624</td>\n",
       "      <td>185476727</td>\n",
       "      <td>15</td>\n",
       "      <td>Centenry Fontaínhas Apartments 1</td>\n",
       "      <td>2014/12/01 09:56:17+00</td>\n",
       "      <td>2014/12/01 00:00:00+00</td>\n",
       "      <td>Apartamento</td>\n",
       "      <td>6</td>\n",
       "      <td>apcf.pc@gmail.com</td>\n",
       "      <td>Rua Fontaínhas 167</td>\n",
       "      <td>4000-240</td>\n",
       "      <td>União das freguesias de Cedofeita, Santo Ildef...</td>\n",
       "      <td>Porto</td>\n",
       "      <td>Porto</td>\n",
       "    </tr>\n",
       "    <tr>\n",
       "      <th>3</th>\n",
       "      <td>295</td>\n",
       "      <td>-8.602860</td>\n",
       "      <td>41.144624</td>\n",
       "      <td>185476728</td>\n",
       "      <td>16</td>\n",
       "      <td>Centenry Fontaínhas Apartments 3</td>\n",
       "      <td>2014/12/01 10:04:00+00</td>\n",
       "      <td>2014/12/01 00:00:00+00</td>\n",
       "      <td>Apartamento</td>\n",
       "      <td>6</td>\n",
       "      <td>apcf.pc@gmail.com</td>\n",
       "      <td>Rua Fontaínhas 167 3.º</td>\n",
       "      <td>4000-240</td>\n",
       "      <td>União das freguesias de Cedofeita, Santo Ildef...</td>\n",
       "      <td>Porto</td>\n",
       "      <td>Porto</td>\n",
       "    </tr>\n",
       "    <tr>\n",
       "      <th>4</th>\n",
       "      <td>296</td>\n",
       "      <td>-8.614323</td>\n",
       "      <td>41.142069</td>\n",
       "      <td>185476729</td>\n",
       "      <td>32</td>\n",
       "      <td>inPátio Guest House</td>\n",
       "      <td>2014/12/01 16:41:53+00</td>\n",
       "      <td>2012/09/10 00:00:00+00</td>\n",
       "      <td>EstabelecimentoHospedagem</td>\n",
       "      <td>12</td>\n",
       "      <td>info@inpatio.pt</td>\n",
       "      <td>Pátio São Salvador 22</td>\n",
       "      <td>4050-567</td>\n",
       "      <td>União das freguesias de Cedofeita, Santo Ildef...</td>\n",
       "      <td>Porto</td>\n",
       "      <td>Porto</td>\n",
       "    </tr>\n",
       "  </tbody>\n",
       "</table>\n",
       "</div>"
      ],
      "text/plain": [
       "   Unnamed: 0         X          Y   OBJECTID NrRNAL  \\\n",
       "0         100 -8.630320  41.158010  185476533    519   \n",
       "1         293 -8.602860  41.144624  185476726     14   \n",
       "2         294 -8.602860  41.144624  185476727     15   \n",
       "3         295 -8.602860  41.144624  185476728     16   \n",
       "4         296 -8.614323  41.142069  185476729     32   \n",
       "\n",
       "                        Denominacao             DataRegisto  \\\n",
       "0                  Koolhouse Porto   2014/12/05 10:19:59+00   \n",
       "1  Centenry Fontaínhas Apartments 1  2014/12/01 09:40:52+00   \n",
       "2  Centenry Fontaínhas Apartments 1  2014/12/01 09:56:17+00   \n",
       "3  Centenry Fontaínhas Apartments 3  2014/12/01 10:04:00+00   \n",
       "4               inPátio Guest House  2014/12/01 16:41:53+00   \n",
       "\n",
       "      DataAberturaPublico                 Modalidade  NrUtentes  \\\n",
       "0  2014/12/05 00:00:00+00  EstabelecimentoHospedagem         23   \n",
       "1  2014/12/01 00:00:00+00                Apartamento          6   \n",
       "2  2014/12/01 00:00:00+00                Apartamento          6   \n",
       "3  2014/12/01 00:00:00+00                Apartamento          6   \n",
       "4  2012/09/10 00:00:00+00  EstabelecimentoHospedagem         12   \n",
       "\n",
       "                     Email                        Endereco CodigoPostal  \\\n",
       "0  kendall.faria@gmail.com  Avenida Avenida Boavista 911       4100-128   \n",
       "1        apcf.pc@gmail.com         Rua Fontaínhas 167 1.º      4000-240   \n",
       "2        apcf.pc@gmail.com            Rua Fontaínhas 167       4000-240   \n",
       "3        apcf.pc@gmail.com         Rua Fontaínhas 167 3.º      4000-240   \n",
       "4          info@inpatio.pt         Pátio São Salvador 22       4050-567   \n",
       "\n",
       "                                           Freguesia Concelho Distrito  \n",
       "0  União das freguesias de Cedofeita, Santo Ildef...    Porto    Porto  \n",
       "1  União das freguesias de Cedofeita, Santo Ildef...    Porto    Porto  \n",
       "2  União das freguesias de Cedofeita, Santo Ildef...    Porto    Porto  \n",
       "3  União das freguesias de Cedofeita, Santo Ildef...    Porto    Porto  \n",
       "4  União das freguesias de Cedofeita, Santo Ildef...    Porto    Porto  "
      ]
     },
     "execution_count": 3,
     "metadata": {},
     "output_type": "execute_result"
    }
   ],
   "source": [
    "import pandas as pd\n",
    "import geopandas as gpd\n",
    "\n",
    "RNAL = pd.read_csv(\"../python/final/porto.csv\")\n",
    "RNAL[\"NrRNAL\"] = RNAL[\"NrRNAL\"].astype(str)\n",
    "RNAL.head()"
   ]
  },
  {
   "cell_type": "code",
   "execution_count": 5,
   "id": "08b0d1e2-1b4c-4955-a2c8-9fd38296086d",
   "metadata": {},
   "outputs": [
    {
     "data": {
      "text/html": [
       "<div>\n",
       "<style scoped>\n",
       "    .dataframe tbody tr th:only-of-type {\n",
       "        vertical-align: middle;\n",
       "    }\n",
       "\n",
       "    .dataframe tbody tr th {\n",
       "        vertical-align: top;\n",
       "    }\n",
       "\n",
       "    .dataframe thead th {\n",
       "        text-align: right;\n",
       "    }\n",
       "</style>\n",
       "<table border=\"1\" class=\"dataframe\">\n",
       "  <thead>\n",
       "    <tr style=\"text-align: right;\">\n",
       "      <th></th>\n",
       "      <th>OBJECTID</th>\n",
       "      <th>BGRI2021</th>\n",
       "      <th>DT21</th>\n",
       "      <th>DTMN21</th>\n",
       "      <th>DTMNFR21</th>\n",
       "      <th>DTMNFRSEC21</th>\n",
       "      <th>SECNUM21</th>\n",
       "      <th>SSNUM21</th>\n",
       "      <th>SECSSNUM21</th>\n",
       "      <th>SUBSECCAO</th>\n",
       "      <th>...</th>\n",
       "      <th>N_INDIVIDUOS</th>\n",
       "      <th>N_INDIVIDUOS_H</th>\n",
       "      <th>N_INDIVIDUOS_M</th>\n",
       "      <th>N_INDIVIDUOS_0_14</th>\n",
       "      <th>N_INDIVIDUOS_15_24</th>\n",
       "      <th>N_INDIVIDUOS_25_64</th>\n",
       "      <th>N_INDIVIDUOS_65_OU_MAIS</th>\n",
       "      <th>SHAPE_Length</th>\n",
       "      <th>SHAPE_Area</th>\n",
       "      <th>geometry</th>\n",
       "    </tr>\n",
       "  </thead>\n",
       "  <tbody>\n",
       "    <tr>\n",
       "      <th>0</th>\n",
       "      <td>52</td>\n",
       "      <td>13121000702</td>\n",
       "      <td>13</td>\n",
       "      <td>1312</td>\n",
       "      <td>131210</td>\n",
       "      <td>131210007</td>\n",
       "      <td>007</td>\n",
       "      <td>02</td>\n",
       "      <td>00702</td>\n",
       "      <td>13121000702</td>\n",
       "      <td>...</td>\n",
       "      <td>328.0</td>\n",
       "      <td>145.0</td>\n",
       "      <td>183.0</td>\n",
       "      <td>29.0</td>\n",
       "      <td>34.0</td>\n",
       "      <td>184.0</td>\n",
       "      <td>81.0</td>\n",
       "      <td>612.308514</td>\n",
       "      <td>21064.473451</td>\n",
       "      <td>MULTIPOLYGON (((-40792.851 166989.435, -40733....</td>\n",
       "    </tr>\n",
       "    <tr>\n",
       "      <th>1</th>\n",
       "      <td>53</td>\n",
       "      <td>13120302118</td>\n",
       "      <td>13</td>\n",
       "      <td>1312</td>\n",
       "      <td>131203</td>\n",
       "      <td>131203021</td>\n",
       "      <td>021</td>\n",
       "      <td>18</td>\n",
       "      <td>02118</td>\n",
       "      <td>13120302118</td>\n",
       "      <td>...</td>\n",
       "      <td>134.0</td>\n",
       "      <td>54.0</td>\n",
       "      <td>80.0</td>\n",
       "      <td>8.0</td>\n",
       "      <td>10.0</td>\n",
       "      <td>55.0</td>\n",
       "      <td>61.0</td>\n",
       "      <td>481.233389</td>\n",
       "      <td>13437.276410</td>\n",
       "      <td>MULTIPOLYGON (((-37680.254 167001.264, -37667....</td>\n",
       "    </tr>\n",
       "    <tr>\n",
       "      <th>2</th>\n",
       "      <td>54</td>\n",
       "      <td>13121103402</td>\n",
       "      <td>13</td>\n",
       "      <td>1312</td>\n",
       "      <td>131211</td>\n",
       "      <td>131211034</td>\n",
       "      <td>034</td>\n",
       "      <td>02</td>\n",
       "      <td>03402</td>\n",
       "      <td>13121103402</td>\n",
       "      <td>...</td>\n",
       "      <td>143.0</td>\n",
       "      <td>67.0</td>\n",
       "      <td>76.0</td>\n",
       "      <td>15.0</td>\n",
       "      <td>8.0</td>\n",
       "      <td>79.0</td>\n",
       "      <td>41.0</td>\n",
       "      <td>707.178859</td>\n",
       "      <td>13484.048739</td>\n",
       "      <td>MULTIPOLYGON (((-43406.159 166894.230, -43347....</td>\n",
       "    </tr>\n",
       "    <tr>\n",
       "      <th>3</th>\n",
       "      <td>55</td>\n",
       "      <td>13121600903</td>\n",
       "      <td>13</td>\n",
       "      <td>1312</td>\n",
       "      <td>131216</td>\n",
       "      <td>131216009</td>\n",
       "      <td>009</td>\n",
       "      <td>03</td>\n",
       "      <td>00903</td>\n",
       "      <td>13121600903</td>\n",
       "      <td>...</td>\n",
       "      <td>205.0</td>\n",
       "      <td>89.0</td>\n",
       "      <td>116.0</td>\n",
       "      <td>33.0</td>\n",
       "      <td>12.0</td>\n",
       "      <td>100.0</td>\n",
       "      <td>60.0</td>\n",
       "      <td>824.199641</td>\n",
       "      <td>24498.620921</td>\n",
       "      <td>MULTIPOLYGON (((-45059.181 166999.619, -45056....</td>\n",
       "    </tr>\n",
       "    <tr>\n",
       "      <th>4</th>\n",
       "      <td>56</td>\n",
       "      <td>13121600403</td>\n",
       "      <td>13</td>\n",
       "      <td>1312</td>\n",
       "      <td>131216</td>\n",
       "      <td>131216004</td>\n",
       "      <td>004</td>\n",
       "      <td>03</td>\n",
       "      <td>00403</td>\n",
       "      <td>13121600403</td>\n",
       "      <td>...</td>\n",
       "      <td>5.0</td>\n",
       "      <td>2.0</td>\n",
       "      <td>3.0</td>\n",
       "      <td>0.0</td>\n",
       "      <td>1.0</td>\n",
       "      <td>2.0</td>\n",
       "      <td>2.0</td>\n",
       "      <td>177.035284</td>\n",
       "      <td>1829.033862</td>\n",
       "      <td>MULTIPOLYGON (((-43954.343 166993.913, -43965....</td>\n",
       "    </tr>\n",
       "  </tbody>\n",
       "</table>\n",
       "<p>5 rows × 48 columns</p>\n",
       "</div>"
      ],
      "text/plain": [
       "   OBJECTID     BGRI2021 DT21 DTMN21 DTMNFR21 DTMNFRSEC21 SECNUM21 SSNUM21  \\\n",
       "0        52  13121000702   13   1312   131210   131210007      007      02   \n",
       "1        53  13120302118   13   1312   131203   131203021      021      18   \n",
       "2        54  13121103402   13   1312   131211   131211034      034      02   \n",
       "3        55  13121600903   13   1312   131216   131216009      009      03   \n",
       "4        56  13121600403   13   1312   131216   131216004      004      03   \n",
       "\n",
       "  SECSSNUM21    SUBSECCAO  ... N_INDIVIDUOS N_INDIVIDUOS_H N_INDIVIDUOS_M  \\\n",
       "0      00702  13121000702  ...        328.0          145.0          183.0   \n",
       "1      02118  13120302118  ...        134.0           54.0           80.0   \n",
       "2      03402  13121103402  ...        143.0           67.0           76.0   \n",
       "3      00903  13121600903  ...        205.0           89.0          116.0   \n",
       "4      00403  13121600403  ...          5.0            2.0            3.0   \n",
       "\n",
       "   N_INDIVIDUOS_0_14  N_INDIVIDUOS_15_24  N_INDIVIDUOS_25_64  \\\n",
       "0               29.0                34.0               184.0   \n",
       "1                8.0                10.0                55.0   \n",
       "2               15.0                 8.0                79.0   \n",
       "3               33.0                12.0               100.0   \n",
       "4                0.0                 1.0                 2.0   \n",
       "\n",
       "   N_INDIVIDUOS_65_OU_MAIS  SHAPE_Length    SHAPE_Area  \\\n",
       "0                     81.0    612.308514  21064.473451   \n",
       "1                     61.0    481.233389  13437.276410   \n",
       "2                     41.0    707.178859  13484.048739   \n",
       "3                     60.0    824.199641  24498.620921   \n",
       "4                      2.0    177.035284   1829.033862   \n",
       "\n",
       "                                            geometry  \n",
       "0  MULTIPOLYGON (((-40792.851 166989.435, -40733....  \n",
       "1  MULTIPOLYGON (((-37680.254 167001.264, -37667....  \n",
       "2  MULTIPOLYGON (((-43406.159 166894.230, -43347....  \n",
       "3  MULTIPOLYGON (((-45059.181 166999.619, -45056....  \n",
       "4  MULTIPOLYGON (((-43954.343 166993.913, -43965....  \n",
       "\n",
       "[5 rows x 48 columns]"
      ]
     },
     "execution_count": 5,
     "metadata": {},
     "output_type": "execute_result"
    }
   ],
   "source": [
    "input_file = \"BGRI/BGRI.gpkg\"\n",
    "BGRI = gpd.read_file(input_file)\n",
    "\n",
    "BGRI.head()"
   ]
  },
  {
   "cell_type": "code",
   "execution_count": 16,
   "id": "33598442-95b8-499f-8898-8c86ffcd57c2",
   "metadata": {},
   "outputs": [
    {
     "name": "stdout",
     "output_type": "stream",
     "text": [
      "        BGRI2021  point_count\n",
      "0    13120200101           21\n",
      "1    13120200104           28\n",
      "2    13120200105            1\n",
      "3    13120200106            3\n",
      "4    13120200107           34\n",
      "..           ...          ...\n",
      "809  13121802505            1\n",
      "810  13121802506            5\n",
      "811  13121802510            4\n",
      "812  13121802511            8\n",
      "813  13121802512            1\n",
      "\n",
      "[814 rows x 2 columns]\n"
     ]
    },
    {
     "name": "stderr",
     "output_type": "stream",
     "text": [
      "/opt/homebrew/opt/ipython/libexec/lib/python3.11/site-packages/IPython/core/interactiveshell.py:3466: FutureWarning: The `op` parameter is deprecated and will be removed in a future release. Please use the `predicate` parameter instead.\n",
      "  if await self.run_code(code, result, async_=asy):\n"
     ]
    }
   ],
   "source": [
    "BGRI = BGRI.to_crs(\"EPSG:4326\")\n",
    "points_gdf = gpd.GeoDataFrame(RNAL, geometry=gpd.points_from_xy(RNAL['X'], RNAL['Y']), crs=\"EPSG:4326\")\n",
    "points_in_areas = gpd.sjoin(points_gdf, BGRI, how='left', op='within')\n",
    "\n",
    "# Count the points in each area\n",
    "point_counts = points_in_areas.groupby('BGRI2021').size().reset_index(name='point_count')\n"
   ]
  },
  {
   "cell_type": "code",
   "execution_count": 19,
   "id": "b88b05a9-d384-4126-bc8e-62adc7961727",
   "metadata": {},
   "outputs": [
    {
     "data": {
      "text/plain": [
       "point_count\n",
       "1     209\n",
       "2     108\n",
       "3      67\n",
       "4      46\n",
       "5      43\n",
       "     ... \n",
       "41      1\n",
       "57      1\n",
       "74      1\n",
       "93      1\n",
       "50      1\n",
       "Name: count, Length: 84, dtype: int64"
      ]
     },
     "execution_count": 19,
     "metadata": {},
     "output_type": "execute_result"
    }
   ],
   "source": [
    "point_counts[\"point_count\"].value_counts()"
   ]
  },
  {
   "cell_type": "code",
   "execution_count": 20,
   "id": "4582b9e1-34cf-4754-a29d-c09ed604ef09",
   "metadata": {},
   "outputs": [],
   "source": [
    "merged_df = pd.merge(BGRI, point_counts, on='BGRI2021', how='left')\n",
    "\n",
    "# Fill NaN values with 0 in the 'number_of_inhabitants' column\n",
    "merged_df['point_count'] = merged_df['point_count'].fillna(0)"
   ]
  },
  {
   "cell_type": "code",
   "execution_count": 23,
   "id": "5e062e7b-a9aa-4b8c-af29-d3bcc4f8da62",
   "metadata": {},
   "outputs": [],
   "source": [
    "merged_df = merged_df.rename(columns={\"point_count\":\"ALs\"})"
   ]
  },
  {
   "cell_type": "code",
   "execution_count": 33,
   "id": "0a822ca2-4a8e-4efa-82d7-9ace00329172",
   "metadata": {},
   "outputs": [],
   "source": [
    "merged_df[\"pressao\"] = merged_df[\"ALs\"] / merged_df[\"N_ALOJAMENTOS_FAM_CLASS_RHABITUAL\"]"
   ]
  },
  {
   "cell_type": "code",
   "execution_count": 32,
   "id": "674f9ff9-9e3d-460d-81c7-9aaf3775f080",
   "metadata": {},
   "outputs": [
    {
     "data": {
      "text/plain": [
       "N_ALOJAMENTOS_FAM_CLASS_RHABITUAL\n",
       "0.0      63\n",
       "12.0     39\n",
       "9.0      33\n",
       "6.0      33\n",
       "8.0      29\n",
       "         ..\n",
       "233.0     1\n",
       "179.0     1\n",
       "296.0     1\n",
       "154.0     1\n",
       "175.0     1\n",
       "Name: count, Length: 257, dtype: int64"
      ]
     },
     "execution_count": 32,
     "metadata": {},
     "output_type": "execute_result"
    }
   ],
   "source": [
    "merged_df[\"N_ALOJAMENTOS_FAMILIARES\"].value_counts()"
   ]
  },
  {
   "cell_type": "code",
   "execution_count": 34,
   "id": "e8b3260d-b951-4976-8371-84e44a62ea82",
   "metadata": {},
   "outputs": [],
   "source": [
    "merged_df.to_csv(\"heatmap.csv\")"
   ]
  },
  {
   "cell_type": "code",
   "execution_count": 35,
   "id": "d0fc2979-5e21-436d-8168-bf013c8e2c6c",
   "metadata": {},
   "outputs": [
    {
     "data": {
      "text/plain": [
       "Index(['OBJECTID', 'BGRI2021', 'DT21', 'DTMN21', 'DTMNFR21', 'DTMNFRSEC21',\n",
       "       'SECNUM21', 'SSNUM21', 'SECSSNUM21', 'SUBSECCAO', 'NUTS1', 'NUTS2',\n",
       "       'NUTS3', 'N_EDIFICIOS_CLASSICOS', 'N_EDIFICIOS_CLASS_CONST_1_OU_2_ALOJ',\n",
       "       'N_EDIFICIOS_CLASS_CONST_3_OU_MAIS_ALOJAMENTOS',\n",
       "       'N_EDIFICIOS_EXCLUSIV_RESID', 'N_EDIFICIOS_1_OU_2_PISOS',\n",
       "       'N_EDIFICIOS_3_OU_MAIS_PISOS', 'N_EDIFICIOS_CONSTR_ANTES_1945',\n",
       "       'N_EDIFICIOS_CONSTR_1946_1980', 'N_EDIFICIOS_CONSTR_1981_2000',\n",
       "       'N_EDIFICIOS_CONSTR_2001_2010', 'N_EDIFICIOS_CONSTR_2011_2021',\n",
       "       'N_EDIFICIOS_COM_NECESSIDADES_REPARACAO', 'N_ALOJAMENTOS_TOTAL',\n",
       "       'N_ALOJAMENTOS_FAMILIARES', 'N_ALOJAMENTOS_FAM_CLASS_RHABITUAL',\n",
       "       'N_ALOJAMENTOS_FAM_CLASS_VAGOS_OU_RESID_SECUNDARIA',\n",
       "       'N_RHABITUAL_ACESSIVEL_CADEIRAS_RODAS',\n",
       "       'N_RHABITUAL_COM_ESTACIONAMENTO', 'N_RHABITUAL_PROP_OCUP',\n",
       "       'N_RHABITUAL_ARRENDADOS', 'N_AGREGADOS_DOMESTICOS_PRIVADOS',\n",
       "       'N_ADP_1_OU_2_PESSOAS', 'N_ADP_3_OU_MAIS_PESSOAS',\n",
       "       'N_NUCLEOS_FAMILIARES',\n",
       "       'N_NUCLEOS_FAMILIARES_COM_FILHOS_TENDO_O_MAIS_NOVO_MENOS_DE_25',\n",
       "       'N_INDIVIDUOS', 'N_INDIVIDUOS_H', 'N_INDIVIDUOS_M', 'N_INDIVIDUOS_0_14',\n",
       "       'N_INDIVIDUOS_15_24', 'N_INDIVIDUOS_25_64', 'N_INDIVIDUOS_65_OU_MAIS',\n",
       "       'SHAPE_Length', 'SHAPE_Area', 'geometry', 'ALs', 'pressao'],\n",
       "      dtype='object')"
      ]
     },
     "execution_count": 35,
     "metadata": {},
     "output_type": "execute_result"
    }
   ],
   "source": [
    "merged_df.columns\n",
    "merged_df = merged_df.drop(\"index_right\", axis = 1)\n"
   ]
  },
  {
   "cell_type": "code",
   "execution_count": 62,
   "id": "ed1c30ea-fdce-43d9-8a27-57ebac831e3c",
   "metadata": {},
   "outputs": [
    {
     "data": {
      "text/html": [
       "<div>\n",
       "<style scoped>\n",
       "    .dataframe tbody tr th:only-of-type {\n",
       "        vertical-align: middle;\n",
       "    }\n",
       "\n",
       "    .dataframe tbody tr th {\n",
       "        vertical-align: top;\n",
       "    }\n",
       "\n",
       "    .dataframe thead th {\n",
       "        text-align: right;\n",
       "    }\n",
       "</style>\n",
       "<table border=\"1\" class=\"dataframe\">\n",
       "  <thead>\n",
       "    <tr style=\"text-align: right;\">\n",
       "      <th></th>\n",
       "      <th>Freguesia</th>\n",
       "      <th>geometry</th>\n",
       "    </tr>\n",
       "  </thead>\n",
       "  <tbody>\n",
       "    <tr>\n",
       "      <th>928</th>\n",
       "      <td>Ramalde</td>\n",
       "      <td>MULTIPOLYGON (((-8.62268 41.18025, -8.62278 41...</td>\n",
       "    </tr>\n",
       "    <tr>\n",
       "      <th>932</th>\n",
       "      <td>Paranhos</td>\n",
       "      <td>MULTIPOLYGON (((-8.59688 41.18375, -8.59683 41...</td>\n",
       "    </tr>\n",
       "    <tr>\n",
       "      <th>2229</th>\n",
       "      <td>União das freguesias de Lordelo do Ouro e Mass...</td>\n",
       "      <td>MULTIPOLYGON (((-8.63594 41.15976, -8.63587 41...</td>\n",
       "    </tr>\n",
       "    <tr>\n",
       "      <th>2233</th>\n",
       "      <td>Bonfim</td>\n",
       "      <td>MULTIPOLYGON (((-8.58820 41.16705, -8.58839 41...</td>\n",
       "    </tr>\n",
       "    <tr>\n",
       "      <th>2234</th>\n",
       "      <td>União das freguesias de Cedofeita, Santo Ildef...</td>\n",
       "      <td>MULTIPOLYGON (((-8.60412 41.16182, -8.60400 41...</td>\n",
       "    </tr>\n",
       "  </tbody>\n",
       "</table>\n",
       "</div>"
      ],
      "text/plain": [
       "                                              Freguesia  \\\n",
       "928                                             Ramalde   \n",
       "932                                            Paranhos   \n",
       "2229  União das freguesias de Lordelo do Ouro e Mass...   \n",
       "2233                                             Bonfim   \n",
       "2234  União das freguesias de Cedofeita, Santo Ildef...   \n",
       "\n",
       "                                               geometry  \n",
       "928   MULTIPOLYGON (((-8.62268 41.18025, -8.62278 41...  \n",
       "932   MULTIPOLYGON (((-8.59688 41.18375, -8.59683 41...  \n",
       "2229  MULTIPOLYGON (((-8.63594 41.15976, -8.63587 41...  \n",
       "2233  MULTIPOLYGON (((-8.58820 41.16705, -8.58839 41...  \n",
       "2234  MULTIPOLYGON (((-8.60412 41.16182, -8.60400 41...  "
      ]
     },
     "execution_count": 62,
     "metadata": {},
     "output_type": "execute_result"
    }
   ],
   "source": [
    "input_file = \"CAOP/CAOP.gpkg\"\n",
    "CAOP = gpd.read_file(input_file)\n",
    "CAOP = CAOP[CAOP[\"Concelho\"] == \"Porto\"][[\"Freguesia\", \"geometry\"]]\n",
    "CAOP = CAOP.to_crs(\"EPSG:4326\")\n",
    "CAOP.head()"
   ]
  },
  {
   "cell_type": "code",
   "execution_count": 63,
   "id": "275807a7-b2fc-4fe2-8981-d8f41194ff4e",
   "metadata": {},
   "outputs": [
    {
     "name": "stdout",
     "output_type": "stream",
     "text": [
      "         BGRI2021                                          Freguesia\n",
      "1726  13120200101                                             Bonfim\n",
      "1732  13120200102                                             Bonfim\n",
      "1687  13120200103                                             Bonfim\n",
      "1688  13120200104                                             Bonfim\n",
      "1734  13120200105                                             Bonfim\n",
      "...           ...                                                ...\n",
      "1531  13121802508  União das freguesias de Lordelo do Ouro e Mass...\n",
      "1653  13121802509  União das freguesias de Lordelo do Ouro e Mass...\n",
      "1525  13121802510  União das freguesias de Lordelo do Ouro e Mass...\n",
      "1533  13121802511  União das freguesias de Lordelo do Ouro e Mass...\n",
      "1512  13121802512  União das freguesias de Lordelo do Ouro e Mass...\n",
      "\n",
      "[1659 rows x 2 columns]\n"
     ]
    },
    {
     "name": "stderr",
     "output_type": "stream",
     "text": [
      "/opt/homebrew/lib/python3.11/site-packages/geopandas/geodataframe.py:1815: FutureWarning: `unary_union` returned None due to all-None GeoSeries. In future, `unary_union` will return 'GEOMETRYCOLLECTION EMPTY' instead.\n",
      "  merged_geom = block.unary_union\n",
      "/var/folders/2_/dc69y37n7d14q5rbg8ly14g40000gn/T/ipykernel_38402/1137887932.py:1: UserWarning: `keep_geom_type=True` in overlay resulted in 387 dropped geometries of different geometry types than df1 has. Set `keep_geom_type=False` to retain all geometries\n",
      "  intersections = gpd.overlay(merged_df, CAOP, how='intersection')\n",
      "/var/folders/2_/dc69y37n7d14q5rbg8ly14g40000gn/T/ipykernel_38402/1137887932.py:3: UserWarning: Geometry is in a geographic CRS. Results from 'area' are likely incorrect. Use 'GeoSeries.to_crs()' to re-project geometries to a projected CRS before this operation.\n",
      "\n",
      "  intersections['intersection_area'] = intersections['geometry'].area\n"
     ]
    }
   ],
   "source": [
    "intersections = gpd.overlay(merged_df, CAOP, how='intersection')\n",
    "# Calculate the area of each intersection\n",
    "intersections['intersection_area'] = intersections['geometry'].area\n",
    "\n",
    "# Find the county with the maximum intersection area for each small section\n",
    "idx = intersections.groupby('BGRI2021')['intersection_area'].idxmax()\n",
    "\n",
    "# Create a new DataFrame with only the small section name and county name\n",
    "result_df = intersections.loc[idx, ['BGRI2021', 'Freguesia']]\n",
    "\n",
    "# Display the result\n",
    "print(result_df)"
   ]
  },
  {
   "cell_type": "code",
   "execution_count": 83,
   "id": "eff0f73c-5113-497d-8cb4-1647bd715f83",
   "metadata": {},
   "outputs": [
    {
     "ename": "TypeError",
     "evalue": "Index(...) must be called with a collection of some kind, 'BGRI2021' was passed",
     "output_type": "error",
     "traceback": [
      "\u001b[0;31m---------------------------------------------------------------------------\u001b[0m",
      "\u001b[0;31mTypeError\u001b[0m                                 Traceback (most recent call last)",
      "Cell \u001b[0;32mIn[83], line 1\u001b[0m\n\u001b[0;32m----> 1\u001b[0m result_df[\u001b[38;5;124m\"\u001b[39m\u001b[38;5;124mBGRI2021\u001b[39m\u001b[38;5;124m\"\u001b[39m] \u001b[38;5;241m=\u001b[39m \u001b[43mresult_df\u001b[49m\u001b[43m[\u001b[49m\u001b[38;5;124;43m\"\u001b[39;49m\u001b[38;5;124;43mBGRI2021\u001b[39;49m\u001b[38;5;124;43m\"\u001b[39;49m\u001b[43m]\u001b[49m\u001b[38;5;241;43m.\u001b[39;49m\u001b[43mastype\u001b[49m\u001b[43m(\u001b[49m\u001b[38;5;28;43mint\u001b[39;49m\u001b[43m)\u001b[49m\u001b[38;5;241;43m.\u001b[39;49m\u001b[43mreindex\u001b[49m\u001b[43m(\u001b[49m\u001b[38;5;124;43m\"\u001b[39;49m\u001b[38;5;124;43mBGRI2021\u001b[39;49m\u001b[38;5;124;43m\"\u001b[39;49m\u001b[43m)\u001b[49m\n\u001b[1;32m      2\u001b[0m merged_df[\u001b[38;5;124m\"\u001b[39m\u001b[38;5;124mBGRI2021\u001b[39m\u001b[38;5;124m\"\u001b[39m] \u001b[38;5;241m=\u001b[39m merged_df[\u001b[38;5;124m\"\u001b[39m\u001b[38;5;124mBGRI2021\u001b[39m\u001b[38;5;124m\"\u001b[39m]\u001b[38;5;241m.\u001b[39mastype(\u001b[38;5;28mint\u001b[39m)\u001b[38;5;241m.\u001b[39mset_index(\u001b[38;5;124m\"\u001b[39m\u001b[38;5;124mBGRI2021\u001b[39m\u001b[38;5;124m\"\u001b[39m)\n",
      "File \u001b[0;32m/opt/homebrew/lib/python3.11/site-packages/pandas/core/series.py:4977\u001b[0m, in \u001b[0;36mSeries.reindex\u001b[0;34m(self, index, axis, method, copy, level, fill_value, limit, tolerance)\u001b[0m\n\u001b[1;32m   4960\u001b[0m \u001b[38;5;129m@doc\u001b[39m(\n\u001b[1;32m   4961\u001b[0m     NDFrame\u001b[38;5;241m.\u001b[39mreindex,  \u001b[38;5;66;03m# type: ignore[has-type]\u001b[39;00m\n\u001b[1;32m   4962\u001b[0m     klass\u001b[38;5;241m=\u001b[39m_shared_doc_kwargs[\u001b[38;5;124m\"\u001b[39m\u001b[38;5;124mklass\u001b[39m\u001b[38;5;124m\"\u001b[39m],\n\u001b[0;32m   (...)\u001b[0m\n\u001b[1;32m   4975\u001b[0m     tolerance\u001b[38;5;241m=\u001b[39m\u001b[38;5;28;01mNone\u001b[39;00m,\n\u001b[1;32m   4976\u001b[0m ) \u001b[38;5;241m-\u001b[39m\u001b[38;5;241m>\u001b[39m Series:\n\u001b[0;32m-> 4977\u001b[0m     \u001b[38;5;28;01mreturn\u001b[39;00m \u001b[38;5;28;43msuper\u001b[39;49m\u001b[43m(\u001b[49m\u001b[43m)\u001b[49m\u001b[38;5;241;43m.\u001b[39;49m\u001b[43mreindex\u001b[49m\u001b[43m(\u001b[49m\n\u001b[1;32m   4978\u001b[0m \u001b[43m        \u001b[49m\u001b[43mindex\u001b[49m\u001b[38;5;241;43m=\u001b[39;49m\u001b[43mindex\u001b[49m\u001b[43m,\u001b[49m\n\u001b[1;32m   4979\u001b[0m \u001b[43m        \u001b[49m\u001b[43mmethod\u001b[49m\u001b[38;5;241;43m=\u001b[39;49m\u001b[43mmethod\u001b[49m\u001b[43m,\u001b[49m\n\u001b[1;32m   4980\u001b[0m \u001b[43m        \u001b[49m\u001b[43mcopy\u001b[49m\u001b[38;5;241;43m=\u001b[39;49m\u001b[43mcopy\u001b[49m\u001b[43m,\u001b[49m\n\u001b[1;32m   4981\u001b[0m \u001b[43m        \u001b[49m\u001b[43mlevel\u001b[49m\u001b[38;5;241;43m=\u001b[39;49m\u001b[43mlevel\u001b[49m\u001b[43m,\u001b[49m\n\u001b[1;32m   4982\u001b[0m \u001b[43m        \u001b[49m\u001b[43mfill_value\u001b[49m\u001b[38;5;241;43m=\u001b[39;49m\u001b[43mfill_value\u001b[49m\u001b[43m,\u001b[49m\n\u001b[1;32m   4983\u001b[0m \u001b[43m        \u001b[49m\u001b[43mlimit\u001b[49m\u001b[38;5;241;43m=\u001b[39;49m\u001b[43mlimit\u001b[49m\u001b[43m,\u001b[49m\n\u001b[1;32m   4984\u001b[0m \u001b[43m        \u001b[49m\u001b[43mtolerance\u001b[49m\u001b[38;5;241;43m=\u001b[39;49m\u001b[43mtolerance\u001b[49m\u001b[43m,\u001b[49m\n\u001b[1;32m   4985\u001b[0m \u001b[43m    \u001b[49m\u001b[43m)\u001b[49m\n",
      "File \u001b[0;32m/opt/homebrew/lib/python3.11/site-packages/pandas/core/generic.py:5521\u001b[0m, in \u001b[0;36mNDFrame.reindex\u001b[0;34m(self, labels, index, columns, axis, method, copy, level, fill_value, limit, tolerance)\u001b[0m\n\u001b[1;32m   5518\u001b[0m     \u001b[38;5;28;01mreturn\u001b[39;00m \u001b[38;5;28mself\u001b[39m\u001b[38;5;241m.\u001b[39m_reindex_multi(axes, copy, fill_value)\n\u001b[1;32m   5520\u001b[0m \u001b[38;5;66;03m# perform the reindex on the axes\u001b[39;00m\n\u001b[0;32m-> 5521\u001b[0m \u001b[38;5;28;01mreturn\u001b[39;00m \u001b[38;5;28;43mself\u001b[39;49m\u001b[38;5;241;43m.\u001b[39;49m\u001b[43m_reindex_axes\u001b[49m\u001b[43m(\u001b[49m\n\u001b[1;32m   5522\u001b[0m \u001b[43m    \u001b[49m\u001b[43maxes\u001b[49m\u001b[43m,\u001b[49m\u001b[43m \u001b[49m\u001b[43mlevel\u001b[49m\u001b[43m,\u001b[49m\u001b[43m \u001b[49m\u001b[43mlimit\u001b[49m\u001b[43m,\u001b[49m\u001b[43m \u001b[49m\u001b[43mtolerance\u001b[49m\u001b[43m,\u001b[49m\u001b[43m \u001b[49m\u001b[43mmethod\u001b[49m\u001b[43m,\u001b[49m\u001b[43m \u001b[49m\u001b[43mfill_value\u001b[49m\u001b[43m,\u001b[49m\u001b[43m \u001b[49m\u001b[43mcopy\u001b[49m\n\u001b[1;32m   5523\u001b[0m \u001b[43m\u001b[49m\u001b[43m)\u001b[49m\u001b[38;5;241m.\u001b[39m__finalize__(\u001b[38;5;28mself\u001b[39m, method\u001b[38;5;241m=\u001b[39m\u001b[38;5;124m\"\u001b[39m\u001b[38;5;124mreindex\u001b[39m\u001b[38;5;124m\"\u001b[39m)\n",
      "File \u001b[0;32m/opt/homebrew/lib/python3.11/site-packages/pandas/core/generic.py:5544\u001b[0m, in \u001b[0;36mNDFrame._reindex_axes\u001b[0;34m(self, axes, level, limit, tolerance, method, fill_value, copy)\u001b[0m\n\u001b[1;32m   5541\u001b[0m     \u001b[38;5;28;01mcontinue\u001b[39;00m\n\u001b[1;32m   5543\u001b[0m ax \u001b[38;5;241m=\u001b[39m \u001b[38;5;28mself\u001b[39m\u001b[38;5;241m.\u001b[39m_get_axis(a)\n\u001b[0;32m-> 5544\u001b[0m new_index, indexer \u001b[38;5;241m=\u001b[39m \u001b[43max\u001b[49m\u001b[38;5;241;43m.\u001b[39;49m\u001b[43mreindex\u001b[49m\u001b[43m(\u001b[49m\n\u001b[1;32m   5545\u001b[0m \u001b[43m    \u001b[49m\u001b[43mlabels\u001b[49m\u001b[43m,\u001b[49m\u001b[43m \u001b[49m\u001b[43mlevel\u001b[49m\u001b[38;5;241;43m=\u001b[39;49m\u001b[43mlevel\u001b[49m\u001b[43m,\u001b[49m\u001b[43m \u001b[49m\u001b[43mlimit\u001b[49m\u001b[38;5;241;43m=\u001b[39;49m\u001b[43mlimit\u001b[49m\u001b[43m,\u001b[49m\u001b[43m \u001b[49m\u001b[43mtolerance\u001b[49m\u001b[38;5;241;43m=\u001b[39;49m\u001b[43mtolerance\u001b[49m\u001b[43m,\u001b[49m\u001b[43m \u001b[49m\u001b[43mmethod\u001b[49m\u001b[38;5;241;43m=\u001b[39;49m\u001b[43mmethod\u001b[49m\n\u001b[1;32m   5546\u001b[0m \u001b[43m\u001b[49m\u001b[43m)\u001b[49m\n\u001b[1;32m   5548\u001b[0m axis \u001b[38;5;241m=\u001b[39m \u001b[38;5;28mself\u001b[39m\u001b[38;5;241m.\u001b[39m_get_axis_number(a)\n\u001b[1;32m   5549\u001b[0m obj \u001b[38;5;241m=\u001b[39m obj\u001b[38;5;241m.\u001b[39m_reindex_with_indexers(\n\u001b[1;32m   5550\u001b[0m     {axis: [new_index, indexer]},\n\u001b[1;32m   5551\u001b[0m     fill_value\u001b[38;5;241m=\u001b[39mfill_value,\n\u001b[1;32m   5552\u001b[0m     copy\u001b[38;5;241m=\u001b[39mcopy,\n\u001b[1;32m   5553\u001b[0m     allow_dups\u001b[38;5;241m=\u001b[39m\u001b[38;5;28;01mFalse\u001b[39;00m,\n\u001b[1;32m   5554\u001b[0m )\n",
      "File \u001b[0;32m/opt/homebrew/lib/python3.11/site-packages/pandas/core/indexes/base.py:4407\u001b[0m, in \u001b[0;36mIndex.reindex\u001b[0;34m(self, target, method, level, limit, tolerance)\u001b[0m\n\u001b[1;32m   4405\u001b[0m     target \u001b[38;5;241m=\u001b[39m idx[:\u001b[38;5;241m0\u001b[39m]\n\u001b[1;32m   4406\u001b[0m \u001b[38;5;28;01melse\u001b[39;00m:\n\u001b[0;32m-> 4407\u001b[0m     target \u001b[38;5;241m=\u001b[39m \u001b[43mensure_index\u001b[49m\u001b[43m(\u001b[49m\u001b[43mtarget\u001b[49m\u001b[43m)\u001b[49m\n\u001b[1;32m   4409\u001b[0m \u001b[38;5;28;01mif\u001b[39;00m level \u001b[38;5;129;01mis\u001b[39;00m \u001b[38;5;129;01mnot\u001b[39;00m \u001b[38;5;28;01mNone\u001b[39;00m \u001b[38;5;129;01mand\u001b[39;00m (\n\u001b[1;32m   4410\u001b[0m     \u001b[38;5;28misinstance\u001b[39m(\u001b[38;5;28mself\u001b[39m, ABCMultiIndex) \u001b[38;5;129;01mor\u001b[39;00m \u001b[38;5;28misinstance\u001b[39m(target, ABCMultiIndex)\n\u001b[1;32m   4411\u001b[0m ):\n\u001b[1;32m   4412\u001b[0m     \u001b[38;5;28;01mif\u001b[39;00m method \u001b[38;5;129;01mis\u001b[39;00m \u001b[38;5;129;01mnot\u001b[39;00m \u001b[38;5;28;01mNone\u001b[39;00m:\n",
      "File \u001b[0;32m/opt/homebrew/lib/python3.11/site-packages/pandas/core/indexes/base.py:7568\u001b[0m, in \u001b[0;36mensure_index\u001b[0;34m(index_like, copy)\u001b[0m\n\u001b[1;32m   7566\u001b[0m         \u001b[38;5;28;01mreturn\u001b[39;00m Index(index_like, copy\u001b[38;5;241m=\u001b[39mcopy, tupleize_cols\u001b[38;5;241m=\u001b[39m\u001b[38;5;28;01mFalse\u001b[39;00m)\n\u001b[1;32m   7567\u001b[0m \u001b[38;5;28;01melse\u001b[39;00m:\n\u001b[0;32m-> 7568\u001b[0m     \u001b[38;5;28;01mreturn\u001b[39;00m \u001b[43mIndex\u001b[49m\u001b[43m(\u001b[49m\u001b[43mindex_like\u001b[49m\u001b[43m,\u001b[49m\u001b[43m \u001b[49m\u001b[43mcopy\u001b[49m\u001b[38;5;241;43m=\u001b[39;49m\u001b[43mcopy\u001b[49m\u001b[43m)\u001b[49m\n",
      "File \u001b[0;32m/opt/homebrew/lib/python3.11/site-packages/pandas/core/indexes/base.py:524\u001b[0m, in \u001b[0;36mIndex.__new__\u001b[0;34m(cls, data, dtype, copy, name, tupleize_cols)\u001b[0m\n\u001b[1;32m    521\u001b[0m         data \u001b[38;5;241m=\u001b[39m com\u001b[38;5;241m.\u001b[39masarray_tuplesafe(data, dtype\u001b[38;5;241m=\u001b[39m_dtype_obj)\n\u001b[1;32m    523\u001b[0m \u001b[38;5;28;01melif\u001b[39;00m is_scalar(data):\n\u001b[0;32m--> 524\u001b[0m     \u001b[38;5;28;01mraise\u001b[39;00m \u001b[38;5;28;43mcls\u001b[39;49m\u001b[38;5;241;43m.\u001b[39;49m\u001b[43m_raise_scalar_data_error\u001b[49m\u001b[43m(\u001b[49m\u001b[43mdata\u001b[49m\u001b[43m)\u001b[49m\n\u001b[1;32m    525\u001b[0m \u001b[38;5;28;01melif\u001b[39;00m \u001b[38;5;28mhasattr\u001b[39m(data, \u001b[38;5;124m\"\u001b[39m\u001b[38;5;124m__array__\u001b[39m\u001b[38;5;124m\"\u001b[39m):\n\u001b[1;32m    526\u001b[0m     \u001b[38;5;28;01mreturn\u001b[39;00m Index(np\u001b[38;5;241m.\u001b[39masarray(data), dtype\u001b[38;5;241m=\u001b[39mdtype, copy\u001b[38;5;241m=\u001b[39mcopy, name\u001b[38;5;241m=\u001b[39mname)\n",
      "File \u001b[0;32m/opt/homebrew/lib/python3.11/site-packages/pandas/core/indexes/base.py:5265\u001b[0m, in \u001b[0;36mIndex._raise_scalar_data_error\u001b[0;34m(cls, data)\u001b[0m\n\u001b[1;32m   5260\u001b[0m \u001b[38;5;129m@final\u001b[39m\n\u001b[1;32m   5261\u001b[0m \u001b[38;5;129m@classmethod\u001b[39m\n\u001b[1;32m   5262\u001b[0m \u001b[38;5;28;01mdef\u001b[39;00m \u001b[38;5;21m_raise_scalar_data_error\u001b[39m(\u001b[38;5;28mcls\u001b[39m, data):\n\u001b[1;32m   5263\u001b[0m     \u001b[38;5;66;03m# We return the TypeError so that we can raise it from the constructor\u001b[39;00m\n\u001b[1;32m   5264\u001b[0m     \u001b[38;5;66;03m#  in order to keep mypy happy\u001b[39;00m\n\u001b[0;32m-> 5265\u001b[0m     \u001b[38;5;28;01mraise\u001b[39;00m \u001b[38;5;167;01mTypeError\u001b[39;00m(\n\u001b[1;32m   5266\u001b[0m         \u001b[38;5;124mf\u001b[39m\u001b[38;5;124m\"\u001b[39m\u001b[38;5;132;01m{\u001b[39;00m\u001b[38;5;28mcls\u001b[39m\u001b[38;5;241m.\u001b[39m\u001b[38;5;18m__name__\u001b[39m\u001b[38;5;132;01m}\u001b[39;00m\u001b[38;5;124m(...) must be called with a collection of some \u001b[39m\u001b[38;5;124m\"\u001b[39m\n\u001b[1;32m   5267\u001b[0m         \u001b[38;5;124mf\u001b[39m\u001b[38;5;124m\"\u001b[39m\u001b[38;5;124mkind, \u001b[39m\u001b[38;5;132;01m{\u001b[39;00m\u001b[38;5;28mrepr\u001b[39m(data)\u001b[38;5;250m \u001b[39m\u001b[38;5;28;01mif\u001b[39;00m\u001b[38;5;250m \u001b[39m\u001b[38;5;129;01mnot\u001b[39;00m\u001b[38;5;250m \u001b[39m\u001b[38;5;28misinstance\u001b[39m(data,\u001b[38;5;250m \u001b[39mnp\u001b[38;5;241m.\u001b[39mgeneric)\u001b[38;5;250m \u001b[39m\u001b[38;5;28;01melse\u001b[39;00m\u001b[38;5;250m \u001b[39m\u001b[38;5;28mstr\u001b[39m(data)\u001b[38;5;132;01m}\u001b[39;00m\u001b[38;5;124m \u001b[39m\u001b[38;5;124m\"\u001b[39m\n\u001b[1;32m   5268\u001b[0m         \u001b[38;5;124m\"\u001b[39m\u001b[38;5;124mwas passed\u001b[39m\u001b[38;5;124m\"\u001b[39m\n\u001b[1;32m   5269\u001b[0m     )\n",
      "\u001b[0;31mTypeError\u001b[0m: Index(...) must be called with a collection of some kind, 'BGRI2021' was passed"
     ]
    }
   ],
   "source": [
    "result_df[\"BGRI2021\"] = result_df[\"BGRI2021\"].astype(int).reindex(\"BGRI2021\")\n",
    "merged_df[\"BGRI2021\"] = merged_df[\"BGRI2021\"].astype(int).set_index(\"BGRI2021\")"
   ]
  },
  {
   "cell_type": "code",
   "execution_count": 87,
   "id": "941c015c-0ef5-4b85-9277-73254dbac5ab",
   "metadata": {},
   "outputs": [],
   "source": [
    "merged_df = merged_df.join(result_df, on=\"BGRI2021\", how=\"left\")"
   ]
  },
  {
   "cell_type": "code",
   "execution_count": 86,
   "id": "c865f909-2b7b-49a0-b448-6c13cf6f36aa",
   "metadata": {},
   "outputs": [],
   "source": [
    "result_df = result_df.set_index(\"BGRI2021\")"
   ]
  },
  {
   "cell_type": "code",
   "execution_count": 89,
   "id": "691fd708-e2ea-467f-95c1-b251fe0897a1",
   "metadata": {},
   "outputs": [],
   "source": [
    "merged_df.to_csv(\"seccoes.csv\")"
   ]
  },
  {
   "cell_type": "code",
   "execution_count": 95,
   "id": "b4a5877b-4a79-4a80-bba9-924b6cdd32b2",
   "metadata": {},
   "outputs": [
    {
     "data": {
      "text/plain": [
       "Freguesia\n",
       "Bonfim                                                                                     14802.0\n",
       "Campanhã                                                                                   16022.0\n",
       "Paranhos                                                                                   27439.0\n",
       "Ramalde                                                                                    19126.0\n",
       "União das freguesias de Aldoar, Foz do Douro e Nevogilde                                   14054.0\n",
       "União das freguesias de Cedofeita, Santo Ildefonso, Sé, Miragaia, São Nicolau e Vitória    26979.0\n",
       "União das freguesias de Lordelo do Ouro e Massarelos                                       14939.0\n",
       "Name: N_ALOJAMENTOS_FAMILIARES, dtype: float64"
      ]
     },
     "execution_count": 95,
     "metadata": {},
     "output_type": "execute_result"
    }
   ],
   "source": [
    "merged_df.groupby(\"Freguesia\")[\"N_ALOJAMENTOS_FAMILIARES\"].agg(\"sum\")"
   ]
  },
  {
   "cell_type": "code",
   "execution_count": 96,
   "id": "51358fe4-3733-4f29-8d3a-3bd8bb2a1748",
   "metadata": {},
   "outputs": [
    {
     "data": {
      "text/plain": [
       "Freguesia\n",
       "Bonfim                                                                                     0.095798\n",
       "Campanhã                                                                                   0.013107\n",
       "Paranhos                                                                                   0.013375\n",
       "Ramalde                                                                                    0.008000\n",
       "União das freguesias de Aldoar, Foz do Douro e Nevogilde                                   0.017504\n",
       "União das freguesias de Cedofeita, Santo Ildefonso, Sé, Miragaia, São Nicolau e Vitória    0.279551\n",
       "União das freguesias de Lordelo do Ouro e Massarelos                                       0.035277\n",
       "dtype: float64"
      ]
     },
     "execution_count": 96,
     "metadata": {},
     "output_type": "execute_result"
    }
   ],
   "source": [
    "merged_df.groupby(\"Freguesia\")[\"ALs\"].agg(\"sum\") / merged_df.groupby(\"Freguesia\")[\"N_ALOJAMENTOS_FAMILIARES\"].agg(\"sum\")"
   ]
  },
  {
   "cell_type": "code",
   "execution_count": 121,
   "id": "c0499f26-29d0-4bbf-8594-976244a7df77",
   "metadata": {},
   "outputs": [
    {
     "data": {
      "text/html": [
       "<div>\n",
       "<style scoped>\n",
       "    .dataframe tbody tr th:only-of-type {\n",
       "        vertical-align: middle;\n",
       "    }\n",
       "\n",
       "    .dataframe tbody tr th {\n",
       "        vertical-align: top;\n",
       "    }\n",
       "\n",
       "    .dataframe thead th {\n",
       "        text-align: right;\n",
       "    }\n",
       "</style>\n",
       "<table border=\"1\" class=\"dataframe\">\n",
       "  <thead>\n",
       "    <tr style=\"text-align: right;\">\n",
       "      <th></th>\n",
       "      <th>FREGUESIA</th>\n",
       "      <th>geometry</th>\n",
       "    </tr>\n",
       "  </thead>\n",
       "  <tbody>\n",
       "    <tr>\n",
       "      <th>2125</th>\n",
       "      <td>CAMPANHÃ</td>\n",
       "      <td>POLYGON ((-8.56821 41.17755, -8.56783 41.17728...</td>\n",
       "    </tr>\n",
       "    <tr>\n",
       "      <th>2126</th>\n",
       "      <td>ALDOAR</td>\n",
       "      <td>POLYGON ((-8.66185 41.17696, -8.66154 41.17692...</td>\n",
       "    </tr>\n",
       "    <tr>\n",
       "      <th>2135</th>\n",
       "      <td>RAMALDE</td>\n",
       "      <td>POLYGON ((-8.63266 41.17926, -8.63240 41.17921...</td>\n",
       "    </tr>\n",
       "    <tr>\n",
       "      <th>2141</th>\n",
       "      <td>PARANHOS</td>\n",
       "      <td>POLYGON ((-8.60353 41.18586, -8.60237 41.18526...</td>\n",
       "    </tr>\n",
       "    <tr>\n",
       "      <th>2983</th>\n",
       "      <td>MASSARELOS</td>\n",
       "      <td>POLYGON ((-8.63565 41.15900, -8.63327 41.15861...</td>\n",
       "    </tr>\n",
       "  </tbody>\n",
       "</table>\n",
       "</div>"
      ],
      "text/plain": [
       "       FREGUESIA                                           geometry\n",
       "2125    CAMPANHÃ  POLYGON ((-8.56821 41.17755, -8.56783 41.17728...\n",
       "2126      ALDOAR  POLYGON ((-8.66185 41.17696, -8.66154 41.17692...\n",
       "2135     RAMALDE  POLYGON ((-8.63266 41.17926, -8.63240 41.17921...\n",
       "2141    PARANHOS  POLYGON ((-8.60353 41.18586, -8.60237 41.18526...\n",
       "2983  MASSARELOS  POLYGON ((-8.63565 41.15900, -8.63327 41.15861..."
      ]
     },
     "execution_count": 121,
     "metadata": {},
     "output_type": "execute_result"
    }
   ],
   "source": [
    "input_file = \"CAOP/CAOP2011.shp\"\n",
    "CAOP11 = gpd.read_file(input_file)\n",
    "CAOP11 = CAOP11[CAOP11[\"MUNICIPIO\"] == \"PORTO\"][[\"FREGUESIA\", \"geometry\"]]\n",
    "CAOP11 = CAOP11.to_crs(\"EPSG:4326\")\n",
    "CAOP11.head()"
   ]
  },
  {
   "cell_type": "code",
   "execution_count": 122,
   "id": "be3075d9-e859-48d4-9d5d-0df70af0f9a2",
   "metadata": {},
   "outputs": [
    {
     "name": "stdout",
     "output_type": "stream",
     "text": [
      "         BGRI2021        FREGUESIA\n",
      "1217  13120200101           BONFIM\n",
      "1223  13120200102           BONFIM\n",
      "1175  13120200103           BONFIM\n",
      "1176  13120200104           BONFIM\n",
      "1225  13120200105           BONFIM\n",
      "...           ...              ...\n",
      "1620  13121802508  LORDELO DO OURO\n",
      "1701  13121802509  LORDELO DO OURO\n",
      "1617  13121802510  LORDELO DO OURO\n",
      "1621  13121802511  LORDELO DO OURO\n",
      "1608  13121802512  LORDELO DO OURO\n",
      "\n",
      "[1659 rows x 2 columns]\n"
     ]
    },
    {
     "name": "stderr",
     "output_type": "stream",
     "text": [
      "/opt/homebrew/lib/python3.11/site-packages/geopandas/geodataframe.py:1815: FutureWarning: `unary_union` returned None due to all-None GeoSeries. In future, `unary_union` will return 'GEOMETRYCOLLECTION EMPTY' instead.\n",
      "  merged_geom = block.unary_union\n",
      "/var/folders/2_/dc69y37n7d14q5rbg8ly14g40000gn/T/ipykernel_38402/1373537385.py:1: UserWarning: `keep_geom_type=True` in overlay resulted in 449 dropped geometries of different geometry types than df1 has. Set `keep_geom_type=False` to retain all geometries\n",
      "  intersections = gpd.overlay(merged_df, CAOP, how='intersection')\n",
      "/var/folders/2_/dc69y37n7d14q5rbg8ly14g40000gn/T/ipykernel_38402/1373537385.py:3: UserWarning: Geometry is in a geographic CRS. Results from 'area' are likely incorrect. Use 'GeoSeries.to_crs()' to re-project geometries to a projected CRS before this operation.\n",
      "\n",
      "  intersections['intersection_area'] = intersections['geometry'].area\n"
     ]
    }
   ],
   "source": [
    "intersections = gpd.overlay(merged_df, CAOP, how='intersection')\n",
    "# Calculate the area of each intersection\n",
    "intersections['intersection_area'] = intersections['geometry'].area\n",
    "\n",
    "# Find the county with the maximum intersection area for each small section\n",
    "idx = intersections.groupby('BGRI2021')['intersection_area'].idxmax()\n",
    "\n",
    "# Create a new DataFrame with only the small section name and county name\n",
    "result_df = intersections.loc[idx, ['BGRI2021', 'FREGUESIA']]\n",
    "\n",
    "# Display the result\n",
    "print(result_df)"
   ]
  },
  {
   "cell_type": "code",
   "execution_count": 123,
   "id": "b78faaae-0b3d-4d45-9e4a-8d9d30e438df",
   "metadata": {},
   "outputs": [
    {
     "ename": "TypeError",
     "evalue": "Index(...) must be called with a collection of some kind, 'BGRI2021' was passed",
     "output_type": "error",
     "traceback": [
      "\u001b[0;31m---------------------------------------------------------------------------\u001b[0m",
      "\u001b[0;31mTypeError\u001b[0m                                 Traceback (most recent call last)",
      "Cell \u001b[0;32mIn[123], line 1\u001b[0m\n\u001b[0;32m----> 1\u001b[0m result_df[\u001b[38;5;124m\"\u001b[39m\u001b[38;5;124mBGRI2021\u001b[39m\u001b[38;5;124m\"\u001b[39m] \u001b[38;5;241m=\u001b[39m \u001b[43mresult_df\u001b[49m\u001b[43m[\u001b[49m\u001b[38;5;124;43m\"\u001b[39;49m\u001b[38;5;124;43mBGRI2021\u001b[39;49m\u001b[38;5;124;43m\"\u001b[39;49m\u001b[43m]\u001b[49m\u001b[38;5;241;43m.\u001b[39;49m\u001b[43mastype\u001b[49m\u001b[43m(\u001b[49m\u001b[38;5;28;43mint\u001b[39;49m\u001b[43m)\u001b[49m\u001b[38;5;241;43m.\u001b[39;49m\u001b[43mreindex\u001b[49m\u001b[43m(\u001b[49m\u001b[38;5;124;43m\"\u001b[39;49m\u001b[38;5;124;43mBGRI2021\u001b[39;49m\u001b[38;5;124;43m\"\u001b[39;49m\u001b[43m)\u001b[49m\n\u001b[1;32m      2\u001b[0m merged_df[\u001b[38;5;124m\"\u001b[39m\u001b[38;5;124mBGRI2021\u001b[39m\u001b[38;5;124m\"\u001b[39m] \u001b[38;5;241m=\u001b[39m merged_df[\u001b[38;5;124m\"\u001b[39m\u001b[38;5;124mBGRI2021\u001b[39m\u001b[38;5;124m\"\u001b[39m]\u001b[38;5;241m.\u001b[39mastype(\u001b[38;5;28mint\u001b[39m)\u001b[38;5;241m.\u001b[39mset_index(\u001b[38;5;124m\"\u001b[39m\u001b[38;5;124mBGRI2021\u001b[39m\u001b[38;5;124m\"\u001b[39m)\n",
      "File \u001b[0;32m/opt/homebrew/lib/python3.11/site-packages/pandas/core/series.py:4977\u001b[0m, in \u001b[0;36mSeries.reindex\u001b[0;34m(self, index, axis, method, copy, level, fill_value, limit, tolerance)\u001b[0m\n\u001b[1;32m   4960\u001b[0m \u001b[38;5;129m@doc\u001b[39m(\n\u001b[1;32m   4961\u001b[0m     NDFrame\u001b[38;5;241m.\u001b[39mreindex,  \u001b[38;5;66;03m# type: ignore[has-type]\u001b[39;00m\n\u001b[1;32m   4962\u001b[0m     klass\u001b[38;5;241m=\u001b[39m_shared_doc_kwargs[\u001b[38;5;124m\"\u001b[39m\u001b[38;5;124mklass\u001b[39m\u001b[38;5;124m\"\u001b[39m],\n\u001b[0;32m   (...)\u001b[0m\n\u001b[1;32m   4975\u001b[0m     tolerance\u001b[38;5;241m=\u001b[39m\u001b[38;5;28;01mNone\u001b[39;00m,\n\u001b[1;32m   4976\u001b[0m ) \u001b[38;5;241m-\u001b[39m\u001b[38;5;241m>\u001b[39m Series:\n\u001b[0;32m-> 4977\u001b[0m     \u001b[38;5;28;01mreturn\u001b[39;00m \u001b[38;5;28;43msuper\u001b[39;49m\u001b[43m(\u001b[49m\u001b[43m)\u001b[49m\u001b[38;5;241;43m.\u001b[39;49m\u001b[43mreindex\u001b[49m\u001b[43m(\u001b[49m\n\u001b[1;32m   4978\u001b[0m \u001b[43m        \u001b[49m\u001b[43mindex\u001b[49m\u001b[38;5;241;43m=\u001b[39;49m\u001b[43mindex\u001b[49m\u001b[43m,\u001b[49m\n\u001b[1;32m   4979\u001b[0m \u001b[43m        \u001b[49m\u001b[43mmethod\u001b[49m\u001b[38;5;241;43m=\u001b[39;49m\u001b[43mmethod\u001b[49m\u001b[43m,\u001b[49m\n\u001b[1;32m   4980\u001b[0m \u001b[43m        \u001b[49m\u001b[43mcopy\u001b[49m\u001b[38;5;241;43m=\u001b[39;49m\u001b[43mcopy\u001b[49m\u001b[43m,\u001b[49m\n\u001b[1;32m   4981\u001b[0m \u001b[43m        \u001b[49m\u001b[43mlevel\u001b[49m\u001b[38;5;241;43m=\u001b[39;49m\u001b[43mlevel\u001b[49m\u001b[43m,\u001b[49m\n\u001b[1;32m   4982\u001b[0m \u001b[43m        \u001b[49m\u001b[43mfill_value\u001b[49m\u001b[38;5;241;43m=\u001b[39;49m\u001b[43mfill_value\u001b[49m\u001b[43m,\u001b[49m\n\u001b[1;32m   4983\u001b[0m \u001b[43m        \u001b[49m\u001b[43mlimit\u001b[49m\u001b[38;5;241;43m=\u001b[39;49m\u001b[43mlimit\u001b[49m\u001b[43m,\u001b[49m\n\u001b[1;32m   4984\u001b[0m \u001b[43m        \u001b[49m\u001b[43mtolerance\u001b[49m\u001b[38;5;241;43m=\u001b[39;49m\u001b[43mtolerance\u001b[49m\u001b[43m,\u001b[49m\n\u001b[1;32m   4985\u001b[0m \u001b[43m    \u001b[49m\u001b[43m)\u001b[49m\n",
      "File \u001b[0;32m/opt/homebrew/lib/python3.11/site-packages/pandas/core/generic.py:5521\u001b[0m, in \u001b[0;36mNDFrame.reindex\u001b[0;34m(self, labels, index, columns, axis, method, copy, level, fill_value, limit, tolerance)\u001b[0m\n\u001b[1;32m   5518\u001b[0m     \u001b[38;5;28;01mreturn\u001b[39;00m \u001b[38;5;28mself\u001b[39m\u001b[38;5;241m.\u001b[39m_reindex_multi(axes, copy, fill_value)\n\u001b[1;32m   5520\u001b[0m \u001b[38;5;66;03m# perform the reindex on the axes\u001b[39;00m\n\u001b[0;32m-> 5521\u001b[0m \u001b[38;5;28;01mreturn\u001b[39;00m \u001b[38;5;28;43mself\u001b[39;49m\u001b[38;5;241;43m.\u001b[39;49m\u001b[43m_reindex_axes\u001b[49m\u001b[43m(\u001b[49m\n\u001b[1;32m   5522\u001b[0m \u001b[43m    \u001b[49m\u001b[43maxes\u001b[49m\u001b[43m,\u001b[49m\u001b[43m \u001b[49m\u001b[43mlevel\u001b[49m\u001b[43m,\u001b[49m\u001b[43m \u001b[49m\u001b[43mlimit\u001b[49m\u001b[43m,\u001b[49m\u001b[43m \u001b[49m\u001b[43mtolerance\u001b[49m\u001b[43m,\u001b[49m\u001b[43m \u001b[49m\u001b[43mmethod\u001b[49m\u001b[43m,\u001b[49m\u001b[43m \u001b[49m\u001b[43mfill_value\u001b[49m\u001b[43m,\u001b[49m\u001b[43m \u001b[49m\u001b[43mcopy\u001b[49m\n\u001b[1;32m   5523\u001b[0m \u001b[43m\u001b[49m\u001b[43m)\u001b[49m\u001b[38;5;241m.\u001b[39m__finalize__(\u001b[38;5;28mself\u001b[39m, method\u001b[38;5;241m=\u001b[39m\u001b[38;5;124m\"\u001b[39m\u001b[38;5;124mreindex\u001b[39m\u001b[38;5;124m\"\u001b[39m)\n",
      "File \u001b[0;32m/opt/homebrew/lib/python3.11/site-packages/pandas/core/generic.py:5544\u001b[0m, in \u001b[0;36mNDFrame._reindex_axes\u001b[0;34m(self, axes, level, limit, tolerance, method, fill_value, copy)\u001b[0m\n\u001b[1;32m   5541\u001b[0m     \u001b[38;5;28;01mcontinue\u001b[39;00m\n\u001b[1;32m   5543\u001b[0m ax \u001b[38;5;241m=\u001b[39m \u001b[38;5;28mself\u001b[39m\u001b[38;5;241m.\u001b[39m_get_axis(a)\n\u001b[0;32m-> 5544\u001b[0m new_index, indexer \u001b[38;5;241m=\u001b[39m \u001b[43max\u001b[49m\u001b[38;5;241;43m.\u001b[39;49m\u001b[43mreindex\u001b[49m\u001b[43m(\u001b[49m\n\u001b[1;32m   5545\u001b[0m \u001b[43m    \u001b[49m\u001b[43mlabels\u001b[49m\u001b[43m,\u001b[49m\u001b[43m \u001b[49m\u001b[43mlevel\u001b[49m\u001b[38;5;241;43m=\u001b[39;49m\u001b[43mlevel\u001b[49m\u001b[43m,\u001b[49m\u001b[43m \u001b[49m\u001b[43mlimit\u001b[49m\u001b[38;5;241;43m=\u001b[39;49m\u001b[43mlimit\u001b[49m\u001b[43m,\u001b[49m\u001b[43m \u001b[49m\u001b[43mtolerance\u001b[49m\u001b[38;5;241;43m=\u001b[39;49m\u001b[43mtolerance\u001b[49m\u001b[43m,\u001b[49m\u001b[43m \u001b[49m\u001b[43mmethod\u001b[49m\u001b[38;5;241;43m=\u001b[39;49m\u001b[43mmethod\u001b[49m\n\u001b[1;32m   5546\u001b[0m \u001b[43m\u001b[49m\u001b[43m)\u001b[49m\n\u001b[1;32m   5548\u001b[0m axis \u001b[38;5;241m=\u001b[39m \u001b[38;5;28mself\u001b[39m\u001b[38;5;241m.\u001b[39m_get_axis_number(a)\n\u001b[1;32m   5549\u001b[0m obj \u001b[38;5;241m=\u001b[39m obj\u001b[38;5;241m.\u001b[39m_reindex_with_indexers(\n\u001b[1;32m   5550\u001b[0m     {axis: [new_index, indexer]},\n\u001b[1;32m   5551\u001b[0m     fill_value\u001b[38;5;241m=\u001b[39mfill_value,\n\u001b[1;32m   5552\u001b[0m     copy\u001b[38;5;241m=\u001b[39mcopy,\n\u001b[1;32m   5553\u001b[0m     allow_dups\u001b[38;5;241m=\u001b[39m\u001b[38;5;28;01mFalse\u001b[39;00m,\n\u001b[1;32m   5554\u001b[0m )\n",
      "File \u001b[0;32m/opt/homebrew/lib/python3.11/site-packages/pandas/core/indexes/base.py:4407\u001b[0m, in \u001b[0;36mIndex.reindex\u001b[0;34m(self, target, method, level, limit, tolerance)\u001b[0m\n\u001b[1;32m   4405\u001b[0m     target \u001b[38;5;241m=\u001b[39m idx[:\u001b[38;5;241m0\u001b[39m]\n\u001b[1;32m   4406\u001b[0m \u001b[38;5;28;01melse\u001b[39;00m:\n\u001b[0;32m-> 4407\u001b[0m     target \u001b[38;5;241m=\u001b[39m \u001b[43mensure_index\u001b[49m\u001b[43m(\u001b[49m\u001b[43mtarget\u001b[49m\u001b[43m)\u001b[49m\n\u001b[1;32m   4409\u001b[0m \u001b[38;5;28;01mif\u001b[39;00m level \u001b[38;5;129;01mis\u001b[39;00m \u001b[38;5;129;01mnot\u001b[39;00m \u001b[38;5;28;01mNone\u001b[39;00m \u001b[38;5;129;01mand\u001b[39;00m (\n\u001b[1;32m   4410\u001b[0m     \u001b[38;5;28misinstance\u001b[39m(\u001b[38;5;28mself\u001b[39m, ABCMultiIndex) \u001b[38;5;129;01mor\u001b[39;00m \u001b[38;5;28misinstance\u001b[39m(target, ABCMultiIndex)\n\u001b[1;32m   4411\u001b[0m ):\n\u001b[1;32m   4412\u001b[0m     \u001b[38;5;28;01mif\u001b[39;00m method \u001b[38;5;129;01mis\u001b[39;00m \u001b[38;5;129;01mnot\u001b[39;00m \u001b[38;5;28;01mNone\u001b[39;00m:\n",
      "File \u001b[0;32m/opt/homebrew/lib/python3.11/site-packages/pandas/core/indexes/base.py:7568\u001b[0m, in \u001b[0;36mensure_index\u001b[0;34m(index_like, copy)\u001b[0m\n\u001b[1;32m   7566\u001b[0m         \u001b[38;5;28;01mreturn\u001b[39;00m Index(index_like, copy\u001b[38;5;241m=\u001b[39mcopy, tupleize_cols\u001b[38;5;241m=\u001b[39m\u001b[38;5;28;01mFalse\u001b[39;00m)\n\u001b[1;32m   7567\u001b[0m \u001b[38;5;28;01melse\u001b[39;00m:\n\u001b[0;32m-> 7568\u001b[0m     \u001b[38;5;28;01mreturn\u001b[39;00m \u001b[43mIndex\u001b[49m\u001b[43m(\u001b[49m\u001b[43mindex_like\u001b[49m\u001b[43m,\u001b[49m\u001b[43m \u001b[49m\u001b[43mcopy\u001b[49m\u001b[38;5;241;43m=\u001b[39;49m\u001b[43mcopy\u001b[49m\u001b[43m)\u001b[49m\n",
      "File \u001b[0;32m/opt/homebrew/lib/python3.11/site-packages/pandas/core/indexes/base.py:524\u001b[0m, in \u001b[0;36mIndex.__new__\u001b[0;34m(cls, data, dtype, copy, name, tupleize_cols)\u001b[0m\n\u001b[1;32m    521\u001b[0m         data \u001b[38;5;241m=\u001b[39m com\u001b[38;5;241m.\u001b[39masarray_tuplesafe(data, dtype\u001b[38;5;241m=\u001b[39m_dtype_obj)\n\u001b[1;32m    523\u001b[0m \u001b[38;5;28;01melif\u001b[39;00m is_scalar(data):\n\u001b[0;32m--> 524\u001b[0m     \u001b[38;5;28;01mraise\u001b[39;00m \u001b[38;5;28;43mcls\u001b[39;49m\u001b[38;5;241;43m.\u001b[39;49m\u001b[43m_raise_scalar_data_error\u001b[49m\u001b[43m(\u001b[49m\u001b[43mdata\u001b[49m\u001b[43m)\u001b[49m\n\u001b[1;32m    525\u001b[0m \u001b[38;5;28;01melif\u001b[39;00m \u001b[38;5;28mhasattr\u001b[39m(data, \u001b[38;5;124m\"\u001b[39m\u001b[38;5;124m__array__\u001b[39m\u001b[38;5;124m\"\u001b[39m):\n\u001b[1;32m    526\u001b[0m     \u001b[38;5;28;01mreturn\u001b[39;00m Index(np\u001b[38;5;241m.\u001b[39masarray(data), dtype\u001b[38;5;241m=\u001b[39mdtype, copy\u001b[38;5;241m=\u001b[39mcopy, name\u001b[38;5;241m=\u001b[39mname)\n",
      "File \u001b[0;32m/opt/homebrew/lib/python3.11/site-packages/pandas/core/indexes/base.py:5265\u001b[0m, in \u001b[0;36mIndex._raise_scalar_data_error\u001b[0;34m(cls, data)\u001b[0m\n\u001b[1;32m   5260\u001b[0m \u001b[38;5;129m@final\u001b[39m\n\u001b[1;32m   5261\u001b[0m \u001b[38;5;129m@classmethod\u001b[39m\n\u001b[1;32m   5262\u001b[0m \u001b[38;5;28;01mdef\u001b[39;00m \u001b[38;5;21m_raise_scalar_data_error\u001b[39m(\u001b[38;5;28mcls\u001b[39m, data):\n\u001b[1;32m   5263\u001b[0m     \u001b[38;5;66;03m# We return the TypeError so that we can raise it from the constructor\u001b[39;00m\n\u001b[1;32m   5264\u001b[0m     \u001b[38;5;66;03m#  in order to keep mypy happy\u001b[39;00m\n\u001b[0;32m-> 5265\u001b[0m     \u001b[38;5;28;01mraise\u001b[39;00m \u001b[38;5;167;01mTypeError\u001b[39;00m(\n\u001b[1;32m   5266\u001b[0m         \u001b[38;5;124mf\u001b[39m\u001b[38;5;124m\"\u001b[39m\u001b[38;5;132;01m{\u001b[39;00m\u001b[38;5;28mcls\u001b[39m\u001b[38;5;241m.\u001b[39m\u001b[38;5;18m__name__\u001b[39m\u001b[38;5;132;01m}\u001b[39;00m\u001b[38;5;124m(...) must be called with a collection of some \u001b[39m\u001b[38;5;124m\"\u001b[39m\n\u001b[1;32m   5267\u001b[0m         \u001b[38;5;124mf\u001b[39m\u001b[38;5;124m\"\u001b[39m\u001b[38;5;124mkind, \u001b[39m\u001b[38;5;132;01m{\u001b[39;00m\u001b[38;5;28mrepr\u001b[39m(data)\u001b[38;5;250m \u001b[39m\u001b[38;5;28;01mif\u001b[39;00m\u001b[38;5;250m \u001b[39m\u001b[38;5;129;01mnot\u001b[39;00m\u001b[38;5;250m \u001b[39m\u001b[38;5;28misinstance\u001b[39m(data,\u001b[38;5;250m \u001b[39mnp\u001b[38;5;241m.\u001b[39mgeneric)\u001b[38;5;250m \u001b[39m\u001b[38;5;28;01melse\u001b[39;00m\u001b[38;5;250m \u001b[39m\u001b[38;5;28mstr\u001b[39m(data)\u001b[38;5;132;01m}\u001b[39;00m\u001b[38;5;124m \u001b[39m\u001b[38;5;124m\"\u001b[39m\n\u001b[1;32m   5268\u001b[0m         \u001b[38;5;124m\"\u001b[39m\u001b[38;5;124mwas passed\u001b[39m\u001b[38;5;124m\"\u001b[39m\n\u001b[1;32m   5269\u001b[0m     )\n",
      "\u001b[0;31mTypeError\u001b[0m: Index(...) must be called with a collection of some kind, 'BGRI2021' was passed"
     ]
    }
   ],
   "source": [
    "result_df[\"BGRI2021\"] = result_df[\"BGRI2021\"].astype(int).reindex(\"BGRI2021\")\n",
    "merged_df[\"BGRI2021\"] = merged_df[\"BGRI2021\"].astype(int).set_index(\"BGRI2021\")"
   ]
  },
  {
   "cell_type": "code",
   "execution_count": 124,
   "id": "fc26bb1a-1cb3-4bca-a845-9d23886af675",
   "metadata": {},
   "outputs": [],
   "source": [
    "result_df = result_df.set_index(\"BGRI2021\")"
   ]
  },
  {
   "cell_type": "code",
   "execution_count": 126,
   "id": "b34181ca-d872-4d29-81cb-7ca2407cf510",
   "metadata": {},
   "outputs": [],
   "source": [
    "result_df = result_df.rename(columns={\"FREGUESIA\":\"Freguesia2011\"})"
   ]
  },
  {
   "cell_type": "code",
   "execution_count": 129,
   "id": "082436ab-77b4-49c3-a8e7-fe95e64787a9",
   "metadata": {},
   "outputs": [],
   "source": [
    "merged_df = merged_df.join(result_df, on=\"BGRI2021\", how=\"left\")"
   ]
  },
  {
   "cell_type": "code",
   "execution_count": 132,
   "id": "24e55073-a963-45cb-9a88-44d2cac31dfb",
   "metadata": {},
   "outputs": [],
   "source": [
    "merged_df.to_csv(\"seccoes-final.csv\")"
   ]
  },
  {
   "cell_type": "code",
   "execution_count": 133,
   "id": "4bdaa41f-074f-4deb-8ef0-73356e0ceaf4",
   "metadata": {},
   "outputs": [
    {
     "data": {
      "text/plain": [
       "Freguesia2011\n",
       "ALDOAR              0.499500\n",
       "BONFIM              9.579787\n",
       "CAMPANHÃ            1.310698\n",
       "CEDOFEITA          11.604575\n",
       "FOZ DO DOURO        3.370787\n",
       "LORDELO DO OURO     1.314918\n",
       "MASSARELOS          8.882784\n",
       "MIRAGAIA           26.466165\n",
       "NEVOGILDE           1.260023\n",
       "PARANHOS            1.337512\n",
       "RAMALDE             0.799958\n",
       "SANTO ILDEFONSO    42.279185\n",
       "SÃO NICOLAU        58.264463\n",
       "SÉ                 57.345491\n",
       "VITÓRIA            79.765625\n",
       "dtype: float64"
      ]
     },
     "execution_count": 133,
     "metadata": {},
     "output_type": "execute_result"
    }
   ],
   "source": [
    "merged_df.groupby(\"Freguesia2011\")[\"ALs\"].agg(\"sum\") / merged_df.groupby(\"Freguesia2011\")[\"N_ALOJAMENTOS_FAMILIARES\"].agg(\"sum\") * 100"
   ]
  },
  {
   "cell_type": "code",
   "execution_count": null,
   "id": "33aef1fc-a09f-460c-a359-f4047ba15814",
   "metadata": {},
   "outputs": [],
   "source": []
  }
 ],
 "metadata": {
  "kernelspec": {
   "display_name": "Python 3 (ipykernel)",
   "language": "python",
   "name": "python3"
  },
  "language_info": {
   "codemirror_mode": {
    "name": "ipython",
    "version": 3
   },
   "file_extension": ".py",
   "mimetype": "text/x-python",
   "name": "python",
   "nbconvert_exporter": "python",
   "pygments_lexer": "ipython3",
   "version": "3.11.5"
  }
 },
 "nbformat": 4,
 "nbformat_minor": 5
}
